{
 "cells": [
  {
   "cell_type": "code",
   "execution_count": 36,
   "metadata": {},
   "outputs": [],
   "source": [
    "import pandas as pd\n",
    "from splinter import Browser\n",
    "from bs4 import BeautifulSoup\n",
    "from datetime import datetime\n",
    "import os\n",
    "import time"
   ]
  },
  {
   "cell_type": "code",
   "execution_count": 37,
   "metadata": {
    "scrolled": true
   },
   "outputs": [
    {
     "name": "stdout",
     "output_type": "stream",
     "text": [
      "Requirement already satisfied: chromedriver in c:\\users\\angiescomputer\\anaconda3\\lib\\site-packages (2.24.1)\n"
     ]
    }
   ],
   "source": [
    "!pip install chromedriver"
   ]
  },
  {
   "cell_type": "code",
   "execution_count": 39,
   "metadata": {
    "scrolled": false
   },
   "outputs": [
    {
     "name": "stdout",
     "output_type": "stream",
     "text": [
      "\n"
     ]
    },
    {
     "name": "stderr",
     "output_type": "stream",
     "text": [
      "[WDM] - ====== WebDriver manager ======\n",
      "[WDM] - Could not get version for google-chrome. Is google-chrome installed?\n",
      "[WDM] - Get LATEST chromedriver version for None google-chrome\n",
      "[WDM] - Driver [C:\\Users\\Angiescomputer\\.wdm\\drivers\\chromedriver\\win32\\103.0.5060.53\\chromedriver.exe] found in cache\n",
      "C:\\Users\\Angiescomputer\\AppData\\Local\\Temp\\ipykernel_15912\\2160715986.py:4: DeprecationWarning: executable_path has been deprecated, please pass in a Service object\n",
      "  driver = webdriver.Chrome(ChromeDriverManager().install())\n"
     ]
    }
   ],
   "source": [
    "from selenium import webdriver\n",
    "from webdriver_manager.chrome import ChromeDriverManager\n",
    "\n",
    "driver = webdriver.Chrome(ChromeDriverManager().install())"
   ]
  },
  {
   "cell_type": "code",
   "execution_count": 28,
   "metadata": {
    "scrolled": true
   },
   "outputs": [
    {
     "name": "stdout",
     "output_type": "stream",
     "text": [
      "Requirement already satisfied: selenium in c:\\users\\angiescomputer\\anaconda3\\lib\\site-packages (4.3.0)\n",
      "Requirement already satisfied: urllib3[secure,socks]~=1.26 in c:\\users\\angiescomputer\\anaconda3\\lib\\site-packages (from selenium) (1.26.9)\n",
      "Requirement already satisfied: trio-websocket~=0.9 in c:\\users\\angiescomputer\\anaconda3\\lib\\site-packages (from selenium) (0.9.2)\n",
      "Requirement already satisfied: trio~=0.17 in c:\\users\\angiescomputer\\anaconda3\\lib\\site-packages (from selenium) (0.21.0)\n",
      "Requirement already satisfied: async-generator>=1.9 in c:\\users\\angiescomputer\\anaconda3\\lib\\site-packages (from trio~=0.17->selenium) (1.10)\n",
      "Requirement already satisfied: sniffio in c:\\users\\angiescomputer\\anaconda3\\lib\\site-packages (from trio~=0.17->selenium) (1.2.0)\n",
      "Requirement already satisfied: outcome in c:\\users\\angiescomputer\\anaconda3\\lib\\site-packages (from trio~=0.17->selenium) (1.2.0)\n",
      "Requirement already satisfied: sortedcontainers in c:\\users\\angiescomputer\\anaconda3\\lib\\site-packages (from trio~=0.17->selenium) (2.4.0)\n",
      "Requirement already satisfied: cffi>=1.14 in c:\\users\\angiescomputer\\anaconda3\\lib\\site-packages (from trio~=0.17->selenium) (1.15.0)\n",
      "Requirement already satisfied: attrs>=19.2.0 in c:\\users\\angiescomputer\\anaconda3\\lib\\site-packages (from trio~=0.17->selenium) (21.4.0)\n",
      "Requirement already satisfied: idna in c:\\users\\angiescomputer\\anaconda3\\lib\\site-packages (from trio~=0.17->selenium) (3.3)\n",
      "Requirement already satisfied: pycparser in c:\\users\\angiescomputer\\anaconda3\\lib\\site-packages (from cffi>=1.14->trio~=0.17->selenium) (2.21)\n",
      "Requirement already satisfied: wsproto>=0.14 in c:\\users\\angiescomputer\\anaconda3\\lib\\site-packages (from trio-websocket~=0.9->selenium) (1.1.0)\n",
      "Requirement already satisfied: PySocks!=1.5.7,<2.0,>=1.5.6 in c:\\users\\angiescomputer\\anaconda3\\lib\\site-packages (from urllib3[secure,socks]~=1.26->selenium) (1.7.1)\n",
      "Requirement already satisfied: pyOpenSSL>=0.14 in c:\\users\\angiescomputer\\anaconda3\\lib\\site-packages (from urllib3[secure,socks]~=1.26->selenium) (21.0.0)\n",
      "Requirement already satisfied: cryptography>=1.3.4 in c:\\users\\angiescomputer\\anaconda3\\lib\\site-packages (from urllib3[secure,socks]~=1.26->selenium) (3.4.8)\n",
      "Requirement already satisfied: certifi in c:\\users\\angiescomputer\\anaconda3\\lib\\site-packages (from urllib3[secure,socks]~=1.26->selenium) (2021.10.8)\n",
      "Requirement already satisfied: six>=1.5.2 in c:\\users\\angiescomputer\\anaconda3\\lib\\site-packages (from pyOpenSSL>=0.14->urllib3[secure,socks]~=1.26->selenium) (1.16.0)\n",
      "Requirement already satisfied: h11<1,>=0.9.0 in c:\\users\\angiescomputer\\anaconda3\\lib\\site-packages (from wsproto>=0.14->trio-websocket~=0.9->selenium) (0.13.0)\n"
     ]
    }
   ],
   "source": [
    "!pip install selenium\n"
   ]
  },
  {
   "cell_type": "code",
   "execution_count": 40,
   "metadata": {},
   "outputs": [
    {
     "name": "stdout",
     "output_type": "stream",
     "text": [
      "\n"
     ]
    },
    {
     "name": "stderr",
     "output_type": "stream",
     "text": [
      "[WDM] - ====== WebDriver manager ======\n",
      "[WDM] - Could not get version for google-chrome. Is google-chrome installed?\n",
      "[WDM] - Get LATEST chromedriver version for None google-chrome\n",
      "[WDM] - Driver [C:\\Users\\Angiescomputer\\.wdm\\drivers\\chromedriver\\win32\\103.0.5060.53\\chromedriver.exe] found in cache\n"
     ]
    }
   ],
   "source": [
    "# Set Executable Path & Initialize Chrome Browser\n",
    "executable_path = {'executable_path': ChromeDriverManager().install()}\n",
    "browser = Browser('chrome', **executable_path, headless=False)"
   ]
  },
  {
   "cell_type": "code",
   "execution_count": 32,
   "metadata": {},
   "outputs": [],
   "source": [
    "# URLS TO SCRAPE\n",
    "url_marsnews = \"https://redplanetscience.com\"\n",
    "url_spaceimage = \"https://spaceimages-mars.com\"\n",
    "url_marsfacts = \"https://galaxyfacts-mars.com\"\n",
    "url_marshemis = \"https://marshemispheres.com\""
   ]
  },
  {
   "cell_type": "code",
   "execution_count": 34,
   "metadata": {},
   "outputs": [
    {
     "ename": "WebDriverException",
     "evalue": "Message: chrome not reachable\n  (Session info: chrome=103.0.5060.66)\nStacktrace:\nBacktrace:\n\tOrdinal0 [0x00F96463+2188387]\n\tOrdinal0 [0x00F2E461+1762401]\n\tOrdinal0 [0x00E43C40+801856]\n\tOrdinal0 [0x00E38932+756018]\n\tOrdinal0 [0x00E39168+758120]\n\tOrdinal0 [0x00E3AA22+764450]\n\tOrdinal0 [0x00E34379+738169]\n\tOrdinal0 [0x00E450D0+807120]\n\tOrdinal0 [0x00E9C402+1164290]\n\tOrdinal0 [0x00E8C5F6+1099254]\n\tOrdinal0 [0x00E66BE0+945120]\n\tOrdinal0 [0x00E67AD6+948950]\n\tGetHandleVerifier [0x012371F2+2712546]\n\tGetHandleVerifier [0x0122886D+2652765]\n\tGetHandleVerifier [0x0102002A+520730]\n\tGetHandleVerifier [0x0101EE06+516086]\n\tOrdinal0 [0x00F3468B+1787531]\n\tOrdinal0 [0x00F38E88+1805960]\n\tOrdinal0 [0x00F38F75+1806197]\n\tOrdinal0 [0x00F41DF1+1842673]\n\tBaseThreadInitThunk [0x75E1FA29+25]\n\tRtlGetAppContainerNamedObjectPath [0x77877A9E+286]\n\tRtlGetAppContainerNamedObjectPath [0x77877A6E+238]\n",
     "output_type": "error",
     "traceback": [
      "\u001b[1;31m---------------------------------------------------------------------------\u001b[0m",
      "\u001b[1;31mWebDriverException\u001b[0m                        Traceback (most recent call last)",
      "Input \u001b[1;32mIn [34]\u001b[0m, in \u001b[0;36m<cell line: 2>\u001b[1;34m()\u001b[0m\n\u001b[0;32m      1\u001b[0m \u001b[38;5;66;03m# SCRAPE MARS NEWS SITE\u001b[39;00m\n\u001b[1;32m----> 2\u001b[0m \u001b[43mbrowser\u001b[49m\u001b[38;5;241;43m.\u001b[39;49m\u001b[43mvisit\u001b[49m\u001b[43m(\u001b[49m\u001b[43murl_marsnews\u001b[49m\u001b[43m)\u001b[49m\n\u001b[0;32m      3\u001b[0m html \u001b[38;5;241m=\u001b[39m browser\u001b[38;5;241m.\u001b[39mhtml\n\u001b[0;32m      4\u001b[0m soup \u001b[38;5;241m=\u001b[39m bs(html, \u001b[38;5;124m\"\u001b[39m\u001b[38;5;124mhtml.parser\u001b[39m\u001b[38;5;124m\"\u001b[39m)\n",
      "File \u001b[1;32m~\\anaconda3\\lib\\site-packages\\splinter\\driver\\webdriver\\__init__.py:319\u001b[0m, in \u001b[0;36mBaseWebDriver.visit\u001b[1;34m(self, url)\u001b[0m\n\u001b[0;32m    318\u001b[0m \u001b[38;5;28;01mdef\u001b[39;00m \u001b[38;5;21mvisit\u001b[39m(\u001b[38;5;28mself\u001b[39m, url):\n\u001b[1;32m--> 319\u001b[0m     \u001b[38;5;28;43mself\u001b[39;49m\u001b[38;5;241;43m.\u001b[39;49m\u001b[43mdriver\u001b[49m\u001b[38;5;241;43m.\u001b[39;49m\u001b[43mget\u001b[49m\u001b[43m(\u001b[49m\u001b[43murl\u001b[49m\u001b[43m)\u001b[49m\n",
      "File \u001b[1;32m~\\anaconda3\\lib\\site-packages\\selenium\\webdriver\\remote\\webdriver.py:447\u001b[0m, in \u001b[0;36mWebDriver.get\u001b[1;34m(self, url)\u001b[0m\n\u001b[0;32m    443\u001b[0m \u001b[38;5;28;01mdef\u001b[39;00m \u001b[38;5;21mget\u001b[39m(\u001b[38;5;28mself\u001b[39m, url: \u001b[38;5;28mstr\u001b[39m) \u001b[38;5;241m-\u001b[39m\u001b[38;5;241m>\u001b[39m \u001b[38;5;28;01mNone\u001b[39;00m:\n\u001b[0;32m    444\u001b[0m     \u001b[38;5;124;03m\"\"\"\u001b[39;00m\n\u001b[0;32m    445\u001b[0m \u001b[38;5;124;03m    Loads a web page in the current browser session.\u001b[39;00m\n\u001b[0;32m    446\u001b[0m \u001b[38;5;124;03m    \"\"\"\u001b[39;00m\n\u001b[1;32m--> 447\u001b[0m     \u001b[38;5;28;43mself\u001b[39;49m\u001b[38;5;241;43m.\u001b[39;49m\u001b[43mexecute\u001b[49m\u001b[43m(\u001b[49m\u001b[43mCommand\u001b[49m\u001b[38;5;241;43m.\u001b[39;49m\u001b[43mGET\u001b[49m\u001b[43m,\u001b[49m\u001b[43m \u001b[49m\u001b[43m{\u001b[49m\u001b[38;5;124;43m'\u001b[39;49m\u001b[38;5;124;43murl\u001b[39;49m\u001b[38;5;124;43m'\u001b[39;49m\u001b[43m:\u001b[49m\u001b[43m \u001b[49m\u001b[43murl\u001b[49m\u001b[43m}\u001b[49m\u001b[43m)\u001b[49m\n",
      "File \u001b[1;32m~\\anaconda3\\lib\\site-packages\\selenium\\webdriver\\remote\\webdriver.py:435\u001b[0m, in \u001b[0;36mWebDriver.execute\u001b[1;34m(self, driver_command, params)\u001b[0m\n\u001b[0;32m    433\u001b[0m response \u001b[38;5;241m=\u001b[39m \u001b[38;5;28mself\u001b[39m\u001b[38;5;241m.\u001b[39mcommand_executor\u001b[38;5;241m.\u001b[39mexecute(driver_command, params)\n\u001b[0;32m    434\u001b[0m \u001b[38;5;28;01mif\u001b[39;00m response:\n\u001b[1;32m--> 435\u001b[0m     \u001b[38;5;28;43mself\u001b[39;49m\u001b[38;5;241;43m.\u001b[39;49m\u001b[43merror_handler\u001b[49m\u001b[38;5;241;43m.\u001b[39;49m\u001b[43mcheck_response\u001b[49m\u001b[43m(\u001b[49m\u001b[43mresponse\u001b[49m\u001b[43m)\u001b[49m\n\u001b[0;32m    436\u001b[0m     response[\u001b[38;5;124m'\u001b[39m\u001b[38;5;124mvalue\u001b[39m\u001b[38;5;124m'\u001b[39m] \u001b[38;5;241m=\u001b[39m \u001b[38;5;28mself\u001b[39m\u001b[38;5;241m.\u001b[39m_unwrap_value(\n\u001b[0;32m    437\u001b[0m         response\u001b[38;5;241m.\u001b[39mget(\u001b[38;5;124m'\u001b[39m\u001b[38;5;124mvalue\u001b[39m\u001b[38;5;124m'\u001b[39m, \u001b[38;5;28;01mNone\u001b[39;00m))\n\u001b[0;32m    438\u001b[0m     \u001b[38;5;28;01mreturn\u001b[39;00m response\n",
      "File \u001b[1;32m~\\anaconda3\\lib\\site-packages\\selenium\\webdriver\\remote\\errorhandler.py:247\u001b[0m, in \u001b[0;36mErrorHandler.check_response\u001b[1;34m(self, response)\u001b[0m\n\u001b[0;32m    245\u001b[0m         alert_text \u001b[38;5;241m=\u001b[39m value[\u001b[38;5;124m'\u001b[39m\u001b[38;5;124malert\u001b[39m\u001b[38;5;124m'\u001b[39m]\u001b[38;5;241m.\u001b[39mget(\u001b[38;5;124m'\u001b[39m\u001b[38;5;124mtext\u001b[39m\u001b[38;5;124m'\u001b[39m)\n\u001b[0;32m    246\u001b[0m     \u001b[38;5;28;01mraise\u001b[39;00m exception_class(message, screen, stacktrace, alert_text)  \u001b[38;5;66;03m# type: ignore[call-arg]  # mypy is not smart enough here\u001b[39;00m\n\u001b[1;32m--> 247\u001b[0m \u001b[38;5;28;01mraise\u001b[39;00m exception_class(message, screen, stacktrace)\n",
      "\u001b[1;31mWebDriverException\u001b[0m: Message: chrome not reachable\n  (Session info: chrome=103.0.5060.66)\nStacktrace:\nBacktrace:\n\tOrdinal0 [0x00F96463+2188387]\n\tOrdinal0 [0x00F2E461+1762401]\n\tOrdinal0 [0x00E43C40+801856]\n\tOrdinal0 [0x00E38932+756018]\n\tOrdinal0 [0x00E39168+758120]\n\tOrdinal0 [0x00E3AA22+764450]\n\tOrdinal0 [0x00E34379+738169]\n\tOrdinal0 [0x00E450D0+807120]\n\tOrdinal0 [0x00E9C402+1164290]\n\tOrdinal0 [0x00E8C5F6+1099254]\n\tOrdinal0 [0x00E66BE0+945120]\n\tOrdinal0 [0x00E67AD6+948950]\n\tGetHandleVerifier [0x012371F2+2712546]\n\tGetHandleVerifier [0x0122886D+2652765]\n\tGetHandleVerifier [0x0102002A+520730]\n\tGetHandleVerifier [0x0101EE06+516086]\n\tOrdinal0 [0x00F3468B+1787531]\n\tOrdinal0 [0x00F38E88+1805960]\n\tOrdinal0 [0x00F38F75+1806197]\n\tOrdinal0 [0x00F41DF1+1842673]\n\tBaseThreadInitThunk [0x75E1FA29+25]\n\tRtlGetAppContainerNamedObjectPath [0x77877A9E+286]\n\tRtlGetAppContainerNamedObjectPath [0x77877A6E+238]\n"
     ]
    }
   ],
   "source": [
    "# SCRAPE MARS NEWS SITE\n",
    "browser.visit(url_marsnews)\n",
    "html = browser.html\n",
    "soup = bs(html, \"html.parser\")\n",
    "# print(soup.prettify())\n",
    "\n",
    "# SCRAPE FIRST NEWS TITLE FROM MARS NEWS SITE\n",
    "article = soup.find(\"div\", class_=\"list_text\")\n",
    "news_title = article.find(\"div\", class_=\"content_title\").text\n",
    "\n",
    "\n",
    "# SCRAPE RELATED PARAGRAPH FROM MARS NEWS SITE\n",
    "article = soup.find('div', class_=\"list_text\")\n",
    "news_para = article.find('div', class_=\"article_teaser_body\").text\n",
    "\n",
    "\n",
    "print(news_title)\n",
    "print(\"-\"*50)\n",
    "print(news_para)"
   ]
  },
  {
   "cell_type": "code",
   "execution_count": 35,
   "metadata": {},
   "outputs": [
    {
     "ename": "WebDriverException",
     "evalue": "Message: chrome not reachable\n  (Session info: chrome=103.0.5060.66)\nStacktrace:\nBacktrace:\n\tOrdinal0 [0x00F96463+2188387]\n\tOrdinal0 [0x00F2E461+1762401]\n\tOrdinal0 [0x00E43C40+801856]\n\tOrdinal0 [0x00E38932+756018]\n\tOrdinal0 [0x00E39168+758120]\n\tOrdinal0 [0x00E3AA22+764450]\n\tOrdinal0 [0x00E34379+738169]\n\tOrdinal0 [0x00E450D0+807120]\n\tOrdinal0 [0x00E9C402+1164290]\n\tOrdinal0 [0x00E8C5F6+1099254]\n\tOrdinal0 [0x00E66BE0+945120]\n\tOrdinal0 [0x00E67AD6+948950]\n\tGetHandleVerifier [0x012371F2+2712546]\n\tGetHandleVerifier [0x0122886D+2652765]\n\tGetHandleVerifier [0x0102002A+520730]\n\tGetHandleVerifier [0x0101EE06+516086]\n\tOrdinal0 [0x00F3468B+1787531]\n\tOrdinal0 [0x00F38E88+1805960]\n\tOrdinal0 [0x00F38F75+1806197]\n\tOrdinal0 [0x00F41DF1+1842673]\n\tBaseThreadInitThunk [0x75E1FA29+25]\n\tRtlGetAppContainerNamedObjectPath [0x77877A9E+286]\n\tRtlGetAppContainerNamedObjectPath [0x77877A6E+238]\n",
     "output_type": "error",
     "traceback": [
      "\u001b[1;31m---------------------------------------------------------------------------\u001b[0m",
      "\u001b[1;31mWebDriverException\u001b[0m                        Traceback (most recent call last)",
      "Input \u001b[1;32mIn [35]\u001b[0m, in \u001b[0;36m<cell line: 2>\u001b[1;34m()\u001b[0m\n\u001b[0;32m      1\u001b[0m \u001b[38;5;66;03m# SCRAPE MARS FACTS SITE FOR MARS PLANET PROFILE TABLE\u001b[39;00m\n\u001b[1;32m----> 2\u001b[0m \u001b[43mbrowser\u001b[49m\u001b[38;5;241;43m.\u001b[39;49m\u001b[43mvisit\u001b[49m\u001b[43m(\u001b[49m\u001b[43murl_marsfacts\u001b[49m\u001b[43m)\u001b[49m\n\u001b[0;32m      3\u001b[0m html \u001b[38;5;241m=\u001b[39m browser\u001b[38;5;241m.\u001b[39mhtml\n\u001b[0;32m      4\u001b[0m soup \u001b[38;5;241m=\u001b[39m bs(html, \u001b[38;5;124m\"\u001b[39m\u001b[38;5;124mhtml.parser\u001b[39m\u001b[38;5;124m\"\u001b[39m)\n",
      "File \u001b[1;32m~\\anaconda3\\lib\\site-packages\\splinter\\driver\\webdriver\\__init__.py:319\u001b[0m, in \u001b[0;36mBaseWebDriver.visit\u001b[1;34m(self, url)\u001b[0m\n\u001b[0;32m    318\u001b[0m \u001b[38;5;28;01mdef\u001b[39;00m \u001b[38;5;21mvisit\u001b[39m(\u001b[38;5;28mself\u001b[39m, url):\n\u001b[1;32m--> 319\u001b[0m     \u001b[38;5;28;43mself\u001b[39;49m\u001b[38;5;241;43m.\u001b[39;49m\u001b[43mdriver\u001b[49m\u001b[38;5;241;43m.\u001b[39;49m\u001b[43mget\u001b[49m\u001b[43m(\u001b[49m\u001b[43murl\u001b[49m\u001b[43m)\u001b[49m\n",
      "File \u001b[1;32m~\\anaconda3\\lib\\site-packages\\selenium\\webdriver\\remote\\webdriver.py:447\u001b[0m, in \u001b[0;36mWebDriver.get\u001b[1;34m(self, url)\u001b[0m\n\u001b[0;32m    443\u001b[0m \u001b[38;5;28;01mdef\u001b[39;00m \u001b[38;5;21mget\u001b[39m(\u001b[38;5;28mself\u001b[39m, url: \u001b[38;5;28mstr\u001b[39m) \u001b[38;5;241m-\u001b[39m\u001b[38;5;241m>\u001b[39m \u001b[38;5;28;01mNone\u001b[39;00m:\n\u001b[0;32m    444\u001b[0m     \u001b[38;5;124;03m\"\"\"\u001b[39;00m\n\u001b[0;32m    445\u001b[0m \u001b[38;5;124;03m    Loads a web page in the current browser session.\u001b[39;00m\n\u001b[0;32m    446\u001b[0m \u001b[38;5;124;03m    \"\"\"\u001b[39;00m\n\u001b[1;32m--> 447\u001b[0m     \u001b[38;5;28;43mself\u001b[39;49m\u001b[38;5;241;43m.\u001b[39;49m\u001b[43mexecute\u001b[49m\u001b[43m(\u001b[49m\u001b[43mCommand\u001b[49m\u001b[38;5;241;43m.\u001b[39;49m\u001b[43mGET\u001b[49m\u001b[43m,\u001b[49m\u001b[43m \u001b[49m\u001b[43m{\u001b[49m\u001b[38;5;124;43m'\u001b[39;49m\u001b[38;5;124;43murl\u001b[39;49m\u001b[38;5;124;43m'\u001b[39;49m\u001b[43m:\u001b[49m\u001b[43m \u001b[49m\u001b[43murl\u001b[49m\u001b[43m}\u001b[49m\u001b[43m)\u001b[49m\n",
      "File \u001b[1;32m~\\anaconda3\\lib\\site-packages\\selenium\\webdriver\\remote\\webdriver.py:435\u001b[0m, in \u001b[0;36mWebDriver.execute\u001b[1;34m(self, driver_command, params)\u001b[0m\n\u001b[0;32m    433\u001b[0m response \u001b[38;5;241m=\u001b[39m \u001b[38;5;28mself\u001b[39m\u001b[38;5;241m.\u001b[39mcommand_executor\u001b[38;5;241m.\u001b[39mexecute(driver_command, params)\n\u001b[0;32m    434\u001b[0m \u001b[38;5;28;01mif\u001b[39;00m response:\n\u001b[1;32m--> 435\u001b[0m     \u001b[38;5;28;43mself\u001b[39;49m\u001b[38;5;241;43m.\u001b[39;49m\u001b[43merror_handler\u001b[49m\u001b[38;5;241;43m.\u001b[39;49m\u001b[43mcheck_response\u001b[49m\u001b[43m(\u001b[49m\u001b[43mresponse\u001b[49m\u001b[43m)\u001b[49m\n\u001b[0;32m    436\u001b[0m     response[\u001b[38;5;124m'\u001b[39m\u001b[38;5;124mvalue\u001b[39m\u001b[38;5;124m'\u001b[39m] \u001b[38;5;241m=\u001b[39m \u001b[38;5;28mself\u001b[39m\u001b[38;5;241m.\u001b[39m_unwrap_value(\n\u001b[0;32m    437\u001b[0m         response\u001b[38;5;241m.\u001b[39mget(\u001b[38;5;124m'\u001b[39m\u001b[38;5;124mvalue\u001b[39m\u001b[38;5;124m'\u001b[39m, \u001b[38;5;28;01mNone\u001b[39;00m))\n\u001b[0;32m    438\u001b[0m     \u001b[38;5;28;01mreturn\u001b[39;00m response\n",
      "File \u001b[1;32m~\\anaconda3\\lib\\site-packages\\selenium\\webdriver\\remote\\errorhandler.py:247\u001b[0m, in \u001b[0;36mErrorHandler.check_response\u001b[1;34m(self, response)\u001b[0m\n\u001b[0;32m    245\u001b[0m         alert_text \u001b[38;5;241m=\u001b[39m value[\u001b[38;5;124m'\u001b[39m\u001b[38;5;124malert\u001b[39m\u001b[38;5;124m'\u001b[39m]\u001b[38;5;241m.\u001b[39mget(\u001b[38;5;124m'\u001b[39m\u001b[38;5;124mtext\u001b[39m\u001b[38;5;124m'\u001b[39m)\n\u001b[0;32m    246\u001b[0m     \u001b[38;5;28;01mraise\u001b[39;00m exception_class(message, screen, stacktrace, alert_text)  \u001b[38;5;66;03m# type: ignore[call-arg]  # mypy is not smart enough here\u001b[39;00m\n\u001b[1;32m--> 247\u001b[0m \u001b[38;5;28;01mraise\u001b[39;00m exception_class(message, screen, stacktrace)\n",
      "\u001b[1;31mWebDriverException\u001b[0m: Message: chrome not reachable\n  (Session info: chrome=103.0.5060.66)\nStacktrace:\nBacktrace:\n\tOrdinal0 [0x00F96463+2188387]\n\tOrdinal0 [0x00F2E461+1762401]\n\tOrdinal0 [0x00E43C40+801856]\n\tOrdinal0 [0x00E38932+756018]\n\tOrdinal0 [0x00E39168+758120]\n\tOrdinal0 [0x00E3AA22+764450]\n\tOrdinal0 [0x00E34379+738169]\n\tOrdinal0 [0x00E450D0+807120]\n\tOrdinal0 [0x00E9C402+1164290]\n\tOrdinal0 [0x00E8C5F6+1099254]\n\tOrdinal0 [0x00E66BE0+945120]\n\tOrdinal0 [0x00E67AD6+948950]\n\tGetHandleVerifier [0x012371F2+2712546]\n\tGetHandleVerifier [0x0122886D+2652765]\n\tGetHandleVerifier [0x0102002A+520730]\n\tGetHandleVerifier [0x0101EE06+516086]\n\tOrdinal0 [0x00F3468B+1787531]\n\tOrdinal0 [0x00F38E88+1805960]\n\tOrdinal0 [0x00F38F75+1806197]\n\tOrdinal0 [0x00F41DF1+1842673]\n\tBaseThreadInitThunk [0x75E1FA29+25]\n\tRtlGetAppContainerNamedObjectPath [0x77877A9E+286]\n\tRtlGetAppContainerNamedObjectPath [0x77877A6E+238]\n"
     ]
    }
   ],
   "source": [
    "# SCRAPE MARS FACTS SITE FOR MARS PLANET PROFILE TABLE\n",
    "browser.visit(url_marsfacts)\n",
    "html = browser.html\n",
    "soup = bs(html, \"html.parser\")\n",
    "# print(soup.prettify())\n",
    "\n",
    "# SCRAPE THE \"MARS PLANET PROFILE\" TABLE\n",
    "mars_facts = pd.read_html(\"https://galaxyfacts-mars.com\")[1]\n",
    "mars_facts"
   ]
  },
  {
   "cell_type": "code",
   "execution_count": 31,
   "metadata": {},
   "outputs": [
    {
     "ename": "NameError",
     "evalue": "name 'mars_facts_df' is not defined",
     "output_type": "error",
     "traceback": [
      "\u001b[1;31m---------------------------------------------------------------------------\u001b[0m",
      "\u001b[1;31mNameError\u001b[0m                                 Traceback (most recent call last)",
      "Input \u001b[1;32mIn [31]\u001b[0m, in \u001b[0;36m<cell line: 1>\u001b[1;34m()\u001b[0m\n\u001b[1;32m----> 1\u001b[0m \u001b[43mmars_facts_df\u001b[49m\u001b[38;5;241m.\u001b[39mto_html(\u001b[38;5;124m'\u001b[39m\u001b[38;5;124mmars_facts_table.html\u001b[39m\u001b[38;5;124m'\u001b[39m, index\u001b[38;5;241m=\u001b[39m\u001b[38;5;28;01mFalse\u001b[39;00m)\n\u001b[0;32m      2\u001b[0m mars_html \u001b[38;5;241m=\u001b[39m mars_facts_df\u001b[38;5;241m.\u001b[39mto_html()\n",
      "\u001b[1;31mNameError\u001b[0m: name 'mars_facts_df' is not defined"
     ]
    }
   ],
   "source": [
    "mars_facts_df.to_html('mars_facts_table.html', index=False)\n",
    "mars_html = mars_facts_df.to_html()\n"
   ]
  },
  {
   "cell_type": "code",
   "execution_count": 21,
   "metadata": {},
   "outputs": [
    {
     "ename": "NameError",
     "evalue": "name 'mars_html' is not defined",
     "output_type": "error",
     "traceback": [
      "\u001b[1;31m---------------------------------------------------------------------------\u001b[0m",
      "\u001b[1;31mNameError\u001b[0m                                 Traceback (most recent call last)",
      "Input \u001b[1;32mIn [21]\u001b[0m, in \u001b[0;36m<cell line: 2>\u001b[1;34m()\u001b[0m\n\u001b[0;32m      1\u001b[0m \u001b[38;5;66;03m# Remove all line breaks\u001b[39;00m\n\u001b[1;32m----> 2\u001b[0m \u001b[43mmars_html\u001b[49m\u001b[38;5;241m.\u001b[39mreplace(\u001b[38;5;124m'\u001b[39m\u001b[38;5;130;01m\\n\u001b[39;00m\u001b[38;5;124m'\u001b[39m,\u001b[38;5;124m'\u001b[39m\u001b[38;5;124m'\u001b[39m)\n\u001b[0;32m      3\u001b[0m \u001b[38;5;28mprint\u001b[39m(mars_html)\n",
      "\u001b[1;31mNameError\u001b[0m: name 'mars_html' is not defined"
     ]
    }
   ],
   "source": [
    "mars_html.replace('\\n','')\n",
    "print(mars_html)"
   ]
  },
  {
   "cell_type": "code",
   "execution_count": 22,
   "metadata": {},
   "outputs": [
    {
     "ename": "NameError",
     "evalue": "name 'bs' is not defined",
     "output_type": "error",
     "traceback": [
      "\u001b[1;31m---------------------------------------------------------------------------\u001b[0m",
      "\u001b[1;31mNameError\u001b[0m                                 Traceback (most recent call last)",
      "Input \u001b[1;32mIn [22]\u001b[0m, in \u001b[0;36m<cell line: 8>\u001b[1;34m()\u001b[0m\n\u001b[0;32m      4\u001b[0m browser\u001b[38;5;241m.\u001b[39mvisit(hemispheres_url)\n\u001b[0;32m      6\u001b[0m html \u001b[38;5;241m=\u001b[39m browser\u001b[38;5;241m.\u001b[39mhtml\n\u001b[1;32m----> 8\u001b[0m hemisphere_soup \u001b[38;5;241m=\u001b[39m \u001b[43mbs\u001b[49m(html, \u001b[38;5;124m'\u001b[39m\u001b[38;5;124mhtml.parser\u001b[39m\u001b[38;5;124m'\u001b[39m)\n\u001b[0;32m     10\u001b[0m \u001b[38;5;28mprint\u001b[39m(hemisphere_soup\u001b[38;5;241m.\u001b[39mprettify())\n",
      "\u001b[1;31mNameError\u001b[0m: name 'bs' is not defined"
     ]
    }
   ],
   "source": [
    "hemispheres_url = 'https://marshemispheres.com/'\n",
    "\n",
    "browser.visit(hemispheres_url)\n",
    "\n",
    "html = browser.html\n",
    "\n",
    "hemisphere_soup = bs(html, 'html.parser')\n",
    "\n",
    "print(hemisphere_soup.prettify())"
   ]
  },
  {
   "cell_type": "code",
   "execution_count": 23,
   "metadata": {},
   "outputs": [
    {
     "ename": "NameError",
     "evalue": "name 'hemisphere_soup' is not defined",
     "output_type": "error",
     "traceback": [
      "\u001b[1;31m---------------------------------------------------------------------------\u001b[0m",
      "\u001b[1;31mNameError\u001b[0m                                 Traceback (most recent call last)",
      "Input \u001b[1;32mIn [23]\u001b[0m, in \u001b[0;36m<cell line: 5>\u001b[1;34m()\u001b[0m\n\u001b[0;32m      2\u001b[0m hemisphere_list_dicts \u001b[38;5;241m=\u001b[39m []\n\u001b[0;32m      4\u001b[0m \u001b[38;5;66;03m# Location of the image urls and hemisphere titles for each hemisphere is located in the \"collapsible results\" class\u001b[39;00m\n\u001b[1;32m----> 5\u001b[0m hemisphere_results \u001b[38;5;241m=\u001b[39m \u001b[43mhemisphere_soup\u001b[49m\u001b[38;5;241m.\u001b[39mfind(\u001b[38;5;124m'\u001b[39m\u001b[38;5;124mdiv\u001b[39m\u001b[38;5;124m'\u001b[39m, class_\u001b[38;5;241m=\u001b[39m\u001b[38;5;124m\"\u001b[39m\u001b[38;5;124mcollapsible results\u001b[39m\u001b[38;5;124m\"\u001b[39m)\n\u001b[0;32m      7\u001b[0m \u001b[38;5;66;03m# Each hemisphere is located in a <div class=\"item\"> element so extract all of them\u001b[39;00m\n\u001b[0;32m      8\u001b[0m each_hemisphere \u001b[38;5;241m=\u001b[39m hemisphere_results\u001b[38;5;241m.\u001b[39mfind_all(\u001b[38;5;124m'\u001b[39m\u001b[38;5;124mdiv\u001b[39m\u001b[38;5;124m'\u001b[39m, class_\u001b[38;5;241m=\u001b[39m\u001b[38;5;124m\"\u001b[39m\u001b[38;5;124mitem\u001b[39m\u001b[38;5;124m\"\u001b[39m)\n",
      "\u001b[1;31mNameError\u001b[0m: name 'hemisphere_soup' is not defined"
     ]
    }
   ],
   "source": [
    "# Create an empty list to store the dictionaries depicting img_url and title\n",
    "hemisphere_list_dicts = []\n",
    "\n",
    "# Location of the image urls and hemisphere titles for each hemisphere is located in the \"collapsible results\" class\n",
    "hemisphere_results = hemisphere_soup.find('div', class_=\"collapsible results\")\n",
    "\n",
    "# Each hemisphere is located in a <div class=\"item\"> element so extract all of them\n",
    "each_hemisphere = hemisphere_results.find_all('div', class_=\"item\")\n",
    "# for hemisphere in each_hemisphere:\n",
    "#     print(hemisphere)"
   ]
  },
  {
   "cell_type": "code",
   "execution_count": 24,
   "metadata": {},
   "outputs": [
    {
     "ename": "NameError",
     "evalue": "name 'each_hemisphere' is not defined",
     "output_type": "error",
     "traceback": [
      "\u001b[1;31m---------------------------------------------------------------------------\u001b[0m",
      "\u001b[1;31mNameError\u001b[0m                                 Traceback (most recent call last)",
      "Input \u001b[1;32mIn [24]\u001b[0m, in \u001b[0;36m<cell line: 2>\u001b[1;34m()\u001b[0m\n\u001b[0;32m      1\u001b[0m \u001b[38;5;66;03m# Create a loop to grab the img_url and title from each item in the each_hemisphere list\u001b[39;00m\n\u001b[1;32m----> 2\u001b[0m \u001b[38;5;28;01mfor\u001b[39;00m hemisphere \u001b[38;5;129;01min\u001b[39;00m \u001b[43meach_hemisphere\u001b[49m:\n\u001b[0;32m      3\u001b[0m     \u001b[38;5;66;03m#Collect the title which is found in <h3> element within the original <div class='item'> that we defined\u001b[39;00m\n\u001b[0;32m      4\u001b[0m     title \u001b[38;5;241m=\u001b[39m hemisphere\u001b[38;5;241m.\u001b[39mfind(\u001b[38;5;124m'\u001b[39m\u001b[38;5;124mh3\u001b[39m\u001b[38;5;124m'\u001b[39m)\u001b[38;5;241m.\u001b[39mtext\n\u001b[0;32m      5\u001b[0m     \u001b[38;5;28mprint\u001b[39m(title)\n",
      "\u001b[1;31mNameError\u001b[0m: name 'each_hemisphere' is not defined"
     ]
    }
   ],
   "source": [
    "# Create a loop to grab the img_url and title from each item in the each_hemisphere list\n",
    "for hemisphere in each_hemisphere:\n",
    "    #Collect the title which is found in <h3> element within the original <div class='item'> that we defined\n",
    "    title = hemisphere.find('h3').text\n",
    "    print(title)\n",
    "    \n",
    "    # Collect img_url by clicking into each hemisphere link\n",
    "    hemisphere_link = hemisphere.find('a', class_=\"itemLink product-item\")['href']\n",
    "    print(hemisphere_link)\n",
    "    \n",
    "    # Now visit this URL to be able to get the image link\n",
    "    browser.visit(f'{hemispheres_url}{hemisphere_link}')\n",
    "    \n",
    "    # Once the browser visits the site, need to parse this new html\n",
    "    image_html = browser.html\n",
    "    hemisphere_img_soup = bs(image_html, 'html.parser')\n",
    "    \n",
    "    # The image jpg link is located in the <div class=\"downloads\"> element\n",
    "    image = hemisphere_img_soup.find('div', class_='downloads')\n",
    "#     print(image)\n",
    "#     print('--------------------------------')\n",
    "    \n",
    "    # The actual URL is located in the first list item\n",
    "    img_url = image.find('li').a['href']\n",
    "    print(img_url)\n",
    "    print('--------------------------------')\n",
    "    \n",
    "    #Combine the image URL with the base URL\n",
    "    img_url_full = f'{hemispheres_url}{img_url}'\n",
    "    \n",
    "    # Now that we have grabbed the title and the img_url, put them into a dictionary\n",
    "    hemisphere_dict = {\"title\":title,\n",
    "                       \"img_url\":img_url_full}\n",
    "    \n",
    "    # Append this dictionary to the original list created\n",
    "    hemisphere_list_dicts.append(hemisphere_dict)\n",
    "    \n",
    "# Check if this worked by printing the list of dicts"
   ]
  },
  {
   "cell_type": "code",
   "execution_count": null,
   "metadata": {},
   "outputs": [],
   "source": []
  },
  {
   "cell_type": "code",
   "execution_count": null,
   "metadata": {},
   "outputs": [],
   "source": []
  }
 ],
 "metadata": {
  "kernelspec": {
   "display_name": "Python 3 (ipykernel)",
   "language": "python",
   "name": "python3"
  },
  "language_info": {
   "codemirror_mode": {
    "name": "ipython",
    "version": 3
   },
   "file_extension": ".py",
   "mimetype": "text/x-python",
   "name": "python",
   "nbconvert_exporter": "python",
   "pygments_lexer": "ipython3",
   "version": "3.9.12"
  },
  "vscode": {
   "interpreter": {
    "hash": "af05f22f54891ccf9bd5935a5dd9eaebcb491a64ea754933e46e6ac0287ecc13"
   }
  }
 },
 "nbformat": 4,
 "nbformat_minor": 2
}
